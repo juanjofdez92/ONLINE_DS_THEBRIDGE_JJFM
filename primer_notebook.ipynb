{
 "cells": [
  {
   "cell_type": "code",
   "execution_count": 1,
   "id": "ed8d1456-d451-4451-a0b1-a7b1d70414c4",
   "metadata": {},
   "outputs": [
    {
     "name": "stdout",
     "output_type": "stream",
     "text": [
      "Este es el primer Notebook\n"
     ]
    }
   ],
   "source": [
    "print(\"Este es el primer Notebook\")"
   ]
  },
  {
   "cell_type": "markdown",
   "id": "296741ff-1ba0-4f30-81a1-91aaad6bffa1",
   "metadata": {},
   "source": [
    "Esto está en modo Markdown"
   ]
  },
  {
   "cell_type": "code",
   "execution_count": null,
   "id": "71dd14d2-91a6-440a-944c-9cbf84987ae8",
   "metadata": {},
   "outputs": [],
   "source": []
  }
 ],
 "metadata": {
  "kernelspec": {
   "display_name": "Python 3 (ipykernel)",
   "language": "python",
   "name": "python3"
  },
  "language_info": {
   "codemirror_mode": {
    "name": "ipython",
    "version": 3
   },
   "file_extension": ".py",
   "mimetype": "text/x-python",
   "name": "python",
   "nbconvert_exporter": "python",
   "pygments_lexer": "ipython3",
   "version": "3.10.11"
  }
 },
 "nbformat": 4,
 "nbformat_minor": 5
}
