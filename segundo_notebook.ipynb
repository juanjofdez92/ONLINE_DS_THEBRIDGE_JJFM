{
 "cells": [
  {
   "cell_type": "code",
   "execution_count": 1,
   "id": "3c1eec36-0dd3-4647-8b35-579ca73a6eae",
   "metadata": {},
   "outputs": [
    {
     "name": "stdout",
     "output_type": "stream",
     "text": [
      "Este es el segundo notebook\n"
     ]
    }
   ],
   "source": [
    "print(\"Este es el segundo notebook\")"
   ]
  },
  {
   "cell_type": "code",
   "execution_count": 2,
   "id": "226b5b2c-977f-4061-9f87-5c5ec2329dd3",
   "metadata": {},
   "outputs": [
    {
     "name": "stdout",
     "output_type": "stream",
     "text": [
      "105\n"
     ]
    }
   ],
   "source": [
    "print(23+82)"
   ]
  },
  {
   "cell_type": "code",
   "execution_count": null,
   "id": "945230c0-3e6a-412a-8770-f5e807cb9a28",
   "metadata": {},
   "outputs": [],
   "source": []
  }
 ],
 "metadata": {
  "kernelspec": {
   "display_name": "Python 3 (ipykernel)",
   "language": "python",
   "name": "python3"
  },
  "language_info": {
   "codemirror_mode": {
    "name": "ipython",
    "version": 3
   },
   "file_extension": ".py",
   "mimetype": "text/x-python",
   "name": "python",
   "nbconvert_exporter": "python",
   "pygments_lexer": "ipython3",
   "version": "3.10.11"
  }
 },
 "nbformat": 4,
 "nbformat_minor": 5
}
