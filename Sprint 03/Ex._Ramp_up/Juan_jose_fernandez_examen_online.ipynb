{
 "cells": [
  {
   "cell_type": "markdown",
   "id": "1f1401c1-4dc9-4902-95bf-160715a42a25",
   "metadata": {},
   "source": [
    "# Prueba de Ramp-up"
   ]
  },
  {
   "cell_type": "markdown",
   "id": "1b34c670-a6dd-482d-9b04-5babee7be17a",
   "metadata": {},
   "source": [
    "Antes de comenzar, cambia el nombre del archivo notebook poniéndole delante tu nombre y primer apellido:\n",
    "\n",
    "* ``<nombre_apellido>_examen_online.ipynb``"
   ]
  },
  {
   "cell_type": "code",
   "execution_count": 1,
   "id": "c8d9a657-272c-425a-9ac4-ea59f479673c",
   "metadata": {},
   "outputs": [],
   "source": [
    "# Escribe tu nombre en la variable:\n",
    "nombre_y_apellidos = \"Juan José Fernández Moreno\""
   ]
  },
  {
   "cell_type": "code",
   "execution_count": 2,
   "id": "2e9f9af5-076c-44ec-9a80-95c0e99cdc58",
   "metadata": {},
   "outputs": [],
   "source": [
    "\"\"\"\n",
    "Criterios de corrección:\n",
    "\n",
    "ejecución (ausencia de errores y obtención de resultados)\n",
    "estructura del código\n",
    "uso correcto de variables\n",
    "manejo de tipo de variables\n",
    "asignaciones\n",
    "operaciones booleanas\n",
    "manejo lógico de flujos de control y bucles\n",
    "uso de colecciones\n",
    "uso de funciones\n",
    "\"\"\";\n",
    "\n",
    "# Ejemplo de como queremos ver el código para más de un intento:\n",
    "\n",
    "# intento 1\n",
    "#your code\n",
    "\n",
    "# intento 2\n",
    "#your code"
   ]
  },
  {
   "cell_type": "code",
   "execution_count": 3,
   "id": "bb16d0e3-3bb9-4f2b-944e-8fc35e628701",
   "metadata": {},
   "outputs": [],
   "source": [
    "# crea todas las celdas que necesites"
   ]
  },
  {
   "cell_type": "markdown",
   "id": "9e02b8f5-6f66-4e73-acfa-7f8c3977de2a",
   "metadata": {},
   "source": [
    "#### Notas y pruebas de apoyo para contestar las preguntas\n",
    "\n",
    "\n",
    "Cualquier código aunque no esté correcto nos dirá más de ti que no escribir nada. "
   ]
  },
  {
   "cell_type": "markdown",
   "id": "57d6b062-27f8-4377-b583-d662777b0bd7",
   "metadata": {},
   "source": [
    "__Debes subir este notebook a tu REPO PERSONAL__\n",
    "\n",
    "__Hora: hasta las 13:30 del 06/11/2024__"
   ]
  },
  {
   "cell_type": "markdown",
   "id": "062d81e8",
   "metadata": {},
   "source": [
    "#### Ejercicio 1\n",
    "\n",
    "Disponemos de una lista con información sobre varios empleados:\n",
    "\n",
    "    empleados = \n",
    "    [[12345, \"Juan Rodríguez\", 53, [\"Director financiero\"], 2],[56789, \"Laura Pérez\", 41, [\"CEO\", \"Director\", \"Gerente\"], 2],[88354, \"Pedro Álvarez\", 26, [\"Asistente\",\"Gestor comercial\"], 3]]\n",
    "\n",
    "Respecto de cada empleado, la lista contiene cinco elementos: en el primero almacenamos su tfno, en el segundo su nombre, en el tercero su edad, en el cuarto los puestos que ha desempeñado en la empresa (en forma de lista) y en el quinto su código postal.\n",
    "\n",
    "1. Siguiendo la misma estructura, incluye un nuevo empleado en la última posición de la lista empleados.\n",
    "\n",
    "2. Mostrar por pantalla, sin uso de funciones (salvo print) ni bucles: \n",
    "\n",
    "    - El nombre y la edad del tercer empleado de la lista empleados.\n",
    "    - Los puestos desempeñados por Pedro Álvarez, ordenados de atras a adelante (es decir, de Gestor comercial a Asistente)\n",
    "    - Si el nuevo empleado que has añadido tiene más o igual a 60 años, muestra por pantalla los puestos que el nuevo empleado haya desempeñado en la empresa. En caso contrario, muestra los puestos desempeñados por Laura Pérez y Juan Rodriguez."
   ]
  },
  {
   "cell_type": "code",
   "execution_count": 6,
   "id": "7a8527c9",
   "metadata": {},
   "outputs": [
    {
     "name": "stdout",
     "output_type": "stream",
     "text": [
      "[[12345, 'Juan Rodríguez', 53, ['Director financiero'], 2], [56789, 'Laura Pérez', 41, ['CEO', 'Director', 'Gerente'], 2], [88354, 'Pedro Álvarez', 26, ['Asistente', 'Gestor comercial'], 3], [12635, 'Leandro Gado', 32, ['Limpiador', 'Asistente', 'Gerente'], 5]]\n",
      "El tercer empleado es Pedro Álvarez y tiene 26 años.\n",
      "['Gestor comercial', 'Asistente']\n",
      "Puestos desempeñados por Laura Pérez: ['CEO', 'Director', 'Gerente']\n",
      "Puestos desempeñados por Juan Rodríguez: ['Director financiero']\n"
     ]
    }
   ],
   "source": [
    "empleados = [[12345, \"Juan Rodríguez\", 53, [\"Director financiero\"], 2],\n",
    "             [56789, \"Laura Pérez\", 41, [\"CEO\", \"Director\", \"Gerente\"], 2],\n",
    "             [88354, \"Pedro Álvarez\", 26, [\"Asistente\",\"Gestor comercial\"], 3]]\n",
    "\n",
    "nuevo_empleado = [12635, \"Leandro Gado\", 32, [\"Limpiador\", \"Asistente\", \"Gerente\"], 5]\n",
    "empleados.append(nuevo_empleado)\n",
    "print(empleados)\n",
    "print(f\"El tercer empleado es {empleados[2][1]} y tiene {empleados[2][2]} años.\")\n",
    "print(list(reversed(empleados[2][3])))\n",
    "\n",
    "if empleados[-1][2] >= 60:\n",
    "    print(f\"Puestos desempeñados por {empleados[-1][1]}: {empleados[-1][3]}\")\n",
    "else:\n",
    "    print(f\"Puestos desempeñados por {empleados[1][1]}: {empleados[1][3]}\")\n",
    "    print(f\"Puestos desempeñados por {empleados[0][1]}: {empleados[0][3]}\")"
   ]
  },
  {
   "cell_type": "code",
   "execution_count": null,
   "id": "ae316b4b",
   "metadata": {},
   "outputs": [
    {
     "name": "stdout",
     "output_type": "stream",
     "text": [
      "[[12345, 'Juan Rodríguez', 53, ['Director financiero'], 2], [56789, 'Laura Pérez', 41, ['CEO', 'Director', 'Gerente'], 2], [88354, 'Pedro Álvarez', 26, ['Asistente', 'Gestor comercial'], 3], [1234, 'Marina Gómez', 22, ['Asistente'], 1]]\n",
      "El tercer empleado se llama Pedro Álvarez y tiene 26 años\n",
      "['Gestor comercial', 'Asistente']\n",
      "Puestos desempeñados por Laura Pérez ['CEO', 'Director', 'Gerente']\n",
      "Puestos desempeñados por Juan Rodriguez ['Director financiero']\n"
     ]
    }
   ],
   "source": []
  },
  {
   "cell_type": "markdown",
   "id": "4da89624-0da3-4f91-aa5c-a084c5ee1b17",
   "metadata": {},
   "source": [
    "#### Ejercicio 2. \n",
    "\n",
    "Escribe un programa que te diga si una letra es una consonante o una vocal. Crea tu propia **FUNCIÓN**\n"
   ]
  },
  {
   "cell_type": "code",
   "execution_count": 14,
   "id": "c58bf610-92de-4a5a-a00d-652279ea33dd",
   "metadata": {},
   "outputs": [
    {
     "name": "stdout",
     "output_type": "stream",
     "text": [
      "f es una consonante.\n",
      "G es una consonante.\n",
      "a es una vocal.\n",
      "U es una vocal.\n",
      "4 es otra cosa.\n",
      "Ó es una vocal.\n"
     ]
    }
   ],
   "source": [
    "def detectar_letra(letra):\n",
    "\n",
    "    consonantes = [\"b\",\"c\",\"d\",\"f\",\"g\",\"h\",\"j\",\"k\",\"l\",\"m\",\"n\",\"ñ\",\"p\",\"q\",\"r\",\"s\",\"t\",\"v\",\"w\",\"x\",\"y\",\"z\"]\n",
    "    vocales = [\"a\",\"á\",\"e\",\"é\",\"i\",\"í\",\"o\",\"ó\",\"u\",\"ú\",\"ü\"]\n",
    "\n",
    "    # Lo convierto a minúscula para controlar el case sensitive\n",
    "    if type(letra) == str:\n",
    "        letra_comparar = letra.lower()\n",
    "    else:\n",
    "        letra_comparar = None\n",
    "\n",
    "    if letra_comparar in consonantes:\n",
    "        print(f\"{letra} es una consonante.\")\n",
    "    elif letra_comparar in vocales:\n",
    "        print(f\"{letra} es una vocal.\")\n",
    "    else:\n",
    "        print(f\"{letra} es otra cosa.\")\n",
    "\n",
    "detectar_letra(\"f\")\n",
    "detectar_letra(\"G\")\n",
    "detectar_letra(\"a\")\n",
    "detectar_letra(\"U\")\n",
    "detectar_letra(4)\n",
    "detectar_letra(\"Ó\")\n",
    "    "
   ]
  },
  {
   "cell_type": "markdown",
   "id": "52065a6c-3d4c-44c0-a10b-958506c481b3",
   "metadata": {},
   "source": [
    "#### Ejercicio 3. \n",
    "\n",
    "Escribe un programa que calcule la edad humana de un perro.\n",
    "Tienes que pedirle al usuario la edad del perro en años.\n",
    "Si el usuario introduce un número negativo, imprime que la cifra facilitada no tiene sentido. Si el perro tiene un año, son 14 años humanos. Si tiene 2 años, son 22 años humanos.\n",
    "A partir de los 2 años, el cálculo es el siguiente: a la edad del perro se le restan 2 años, el resultado se multiplica por 5 y, finalmente, se le suma 22.\n",
    "Usa una función sin argumentos de entrada ni de salida (muestra toda la información con print())"
   ]
  },
  {
   "cell_type": "code",
   "execution_count": 24,
   "id": "9c59c801-1fe1-4a6d-a000-f85ca738ed00",
   "metadata": {},
   "outputs": [
    {
     "name": "stdout",
     "output_type": "stream",
     "text": [
      "Introduce un número válido.\n"
     ]
    }
   ],
   "source": [
    "def calcular_edad_humana_perro():\n",
    "    edad_perro = input(\"Introduce la edad del perro:\")\n",
    "\n",
    "    try:\n",
    "        edad_perro = int(edad_perro)\n",
    "\n",
    "        if edad_perro < 0:\n",
    "            print(\"Eso no tiene sentido.\")\n",
    "        elif edad_perro == 0:\n",
    "            print(\"El perro tiene 0 años humanos.\")\n",
    "        elif edad_perro == 1:\n",
    "            print(\"El perro tiene 14 años humanos.\")\n",
    "        elif edad_perro == 2:\n",
    "            print(\"El perro tiene 22 años humanos.\")\n",
    "        else:\n",
    "            edad_perro = (edad_perro - 2) * 5 + 22\n",
    "            print(f\"El perro tiene {edad_perro} años humanos.\")\n",
    "    except:\n",
    "        print(\"Introduce un número válido.\")\n",
    "\n",
    "calcular_edad_humana_perro()\n"
   ]
  },
  {
   "cell_type": "markdown",
   "id": "2991309f-4208-431a-900c-d9bc734bb936",
   "metadata": {},
   "source": [
    "#### Ejercicio 4. \n",
    "\n",
    "Escribe un programa que te diga si una frase es un pangrama. Un pangrama es una frase que contiene todas las letras del alfabeto.\n",
    "Puedes tener espacios en blanco, pero NO  tendrás signos de puntuación, a excepción de las tildes.\n",
    "\n",
    "Ejemplo de pangrama:\n",
    "\n",
    "Extraño pan de col y kiwi se quemó bajo fugaz vaho "
   ]
  },
  {
   "cell_type": "code",
   "execution_count": 44,
   "id": "c5f21e1d",
   "metadata": {},
   "outputs": [
    {
     "name": "stdout",
     "output_type": "stream",
     "text": [
      "La frase 'Frase de prueba' no es un pangrama.\n",
      "Pon una frase válida.\n",
      "La frase 'Extraño pan de col y kiwi se quemó bajo fugaz vaho' es un pangrama.\n"
     ]
    },
    {
     "data": {
      "text/plain": [
       "True"
      ]
     },
     "execution_count": 44,
     "metadata": {},
     "output_type": "execute_result"
    }
   ],
   "source": [
    "def pangramas(frase):\n",
    "    vocales = [\"a\",\"á\",\"e\",\"é\",\"i\",\"í\",\"o\",\"ó\",\"u\",\"ú\",\"ü\"]\n",
    "    contador_vocales = 0\n",
    "    if type(frase) == str:\n",
    "        frase_comparar = frase.lower()\n",
    "    else:\n",
    "        print(\"Pon una frase válida.\")\n",
    "        return\n",
    "\n",
    "    # Busca una a una todas las vocales (con sus tildes) y, si las va encontrando, suma 1 al contador\n",
    "\n",
    "    if vocales[0] in frase_comparar or vocales[1] in frase_comparar:\n",
    "        contador_vocales += 1\n",
    "    if vocales[2] in frase_comparar or vocales[3] in frase_comparar:\n",
    "        contador_vocales += 1\n",
    "    if vocales[4] in frase_comparar or vocales[5] in frase_comparar:\n",
    "        contador_vocales += 1\n",
    "    if vocales[6] in frase_comparar or vocales[7] in frase_comparar:\n",
    "        contador_vocales += 1\n",
    "    if vocales[8] in frase_comparar or vocales[9] in frase_comparar or vocales[10] in frase_comparar:\n",
    "        contador_vocales += 1\n",
    "\n",
    "    # Si el contador es 5, significa que las ha encontrado todas, por tanto, será un pangrama\n",
    "\n",
    "    if contador_vocales == 5:\n",
    "        print(f\"La frase '{frase}' es un pangrama.\")\n",
    "        return True\n",
    "    else:\n",
    "        print(f\"La frase '{frase}' no es un pangrama.\")\n",
    "        return False\n",
    "\n",
    "\n",
    "pangramas(\"Frase de prueba\")\n",
    "pangramas(4)\n",
    "pangramas(\"Extraño pan de col y kiwi se quemó bajo fugaz vaho\")"
   ]
  },
  {
   "cell_type": "code",
   "execution_count": null,
   "id": "9a349c1e-15ab-4253-97f8-2a07a263791d",
   "metadata": {},
   "outputs": [
    {
     "name": "stdout",
     "output_type": "stream",
     "text": [
      "True\n"
     ]
    }
   ],
   "source": []
  },
  {
   "cell_type": "markdown",
   "id": "3dbb76e0-79b2-45e8-9034-58ee9cbd82bb",
   "metadata": {},
   "source": [
    "#### Ejercicio 5. \n",
    "\n",
    "Escribe un programa que use diccionarios para traducir palabras entre varios idiomas.\n",
    "Deberás pedirle al usuario una palabra por teclado, ver si está en tu diccionario. En caso de que esté, deberás mostrar la traducción de esa palabra.\n",
    "\n",
    "Ejemplo de diccionario:\n",
    "\n",
    "```python\n",
    "{\"file\": \"Fichier\", \"new\": \"Nouveau\", \"open\": \"Ouvrir\", \"save\": \"Enregistrer\", \"save as\": \"Enregistrer sous\", \"print preview\": \"Apercu avant impressioner\", \"print\": \"Imprimer\", \"close\": \"Fermer\", \"exit\": \"Quitter\"}\n"
   ]
  },
  {
   "cell_type": "code",
   "execution_count": 59,
   "id": "88236123-e8ac-45da-87d0-134a88a690c1",
   "metadata": {},
   "outputs": [
    {
     "name": "stdout",
     "output_type": "stream",
     "text": [
      "La traducción de EXIT es Quitter\n"
     ]
    },
    {
     "data": {
      "text/plain": [
       "'Quitter'"
      ]
     },
     "execution_count": 59,
     "metadata": {},
     "output_type": "execute_result"
    }
   ],
   "source": [
    "def traductor():\n",
    "    \n",
    "    lista_palabras = {\"file\": \"Fichier\",\n",
    "                \"new\": \"Nouveau\",\n",
    "                \"open\": \"Ouvrir\",\n",
    "                \"save\": \"Enregistrer\",\n",
    "                \"save as\": \"Enregistrer sous\",\n",
    "                \"print preview\": \"Apercu avant impressioner\",\n",
    "                \"print\": \"Imprimer\",\n",
    "                \"close\": \"Fermer\",\n",
    "                \"exit\": \"Quitter\"}\n",
    "    \n",
    "    palabra = input(\"Introduce tu palabra a traducir: \")\n",
    "\n",
    "    palabra_a_traducir = palabra.lower()\n",
    "    \n",
    "    if palabra_a_traducir in lista_palabras.keys():\n",
    "        print(f\"La traducción de {palabra} es {lista_palabras[palabra_a_traducir]}\")\n",
    "        return lista_palabras[palabra_a_traducir]\n",
    "    else:\n",
    "        print(\"No es una palabra válida o no se encuentra en el diccionario.\")\n",
    "        return False\n",
    "    \n",
    "traductor()\n",
    "    \n"
   ]
  },
  {
   "cell_type": "markdown",
   "id": "61967ca4-7e06-44b3-ad7b-adbc0e71671a",
   "metadata": {},
   "source": [
    "#### Ejercicio 6. (Bonus).\n",
    "\n",
    "Usando `OOP` modela un theremin (es un instrumento musical que se toca modificando el campo electromagnético, por si tenías curiosidad).\n",
    "Tendrá de atributos la marca, el modelo, el peso, la potencia y la batería.\n",
    "\n",
    "Todos los instrumentos se crean con un peso predeterminado de 500, una potencia de 50 y una batería de 200.\n",
    "\n",
    "Cuando se recarga la batería vale 200.\n",
    "\n",
    "Cuando se toca, se muestra por pantalla que está sonando y la batería disminuye 10 (no siendo nunca negativo).\n",
    "Si no hay batería, no puede sonar. Crea un instrumento, tócalo mientras quede batería, cárgalo y no lo vuelvas a tocar.\n"
   ]
  },
  {
   "cell_type": "code",
   "execution_count": null,
   "id": "9512fcc0",
   "metadata": {},
   "outputs": [
    {
     "name": "stdout",
     "output_type": "stream",
     "text": [
      "El theremin La Pava UltraPlus 500 está tocando.\n",
      "El theremin La Pava UltraPlus 500 está tocando.\n",
      "El theremin La Pava UltraPlus 500 está tocando.\n",
      "El theremin La Pava UltraPlus 500 está tocando.\n",
      "El theremin La Pava UltraPlus 500 está tocando.\n",
      "El theremin La Pava UltraPlus 500 está tocando.\n",
      "El theremin La Pava UltraPlus 500 está tocando.\n",
      "El theremin La Pava UltraPlus 500 está tocando.\n",
      "El theremin La Pava UltraPlus 500 está tocando.\n",
      "Batería actual: 110\n",
      "El theremin La Pava UltraPlus 500 está tocando.\n",
      "El theremin La Pava UltraPlus 500 está tocando.\n",
      "El theremin La Pava UltraPlus 500 está tocando.\n",
      "El theremin La Pava UltraPlus 500 está tocando.\n",
      "El theremin La Pava UltraPlus 500 está tocando.\n",
      "El theremin La Pava UltraPlus 500 está tocando.\n",
      "El theremin La Pava UltraPlus 500 está tocando.\n",
      "El theremin La Pava UltraPlus 500 está tocando.\n",
      "El theremin La Pava UltraPlus 500 está tocando.\n",
      "El theremin La Pava UltraPlus 500 está tocando.\n",
      "El theremin La Pava UltraPlus 500 está tocando.\n",
      "El theremin La Pava UltraPlus 500 no tiene batería.\n",
      "Batería llena\n",
      "Batería actual: 200\n"
     ]
    }
   ],
   "source": [
    "class Theremin:\n",
    "    def __init__(self, marca, modelo, peso = 500, potencia = 50, bateria = 200):\n",
    "        self.marca = marca\n",
    "        self.modelo = modelo\n",
    "        self.peso = peso\n",
    "        self.potencia = potencia\n",
    "        self.bateria_maxima = bateria\n",
    "        self.bateria_actual = self.bateria_maxima\n",
    "    \n",
    "    def ver_caracteristicas(self):\n",
    "        print(\"Características del theremin:\")\n",
    "        print(f\"Marca: {self.marca}\")\n",
    "        print(f\"Modelo: {self.modelo}\")\n",
    "        print(f\"Peso: {self.peso}\")\n",
    "        print(f\"Potencia: {self.potencia}\")\n",
    "        print(f\"Batería máxima: {self.bateria_maxima}\")\n",
    "        self.ver_bateria()\n",
    "\n",
    "    def ver_bateria(self):\n",
    "        print(f\"Batería actual: {self.bateria_actual}\")\n",
    "    \n",
    "    def cargar_bateria(self):\n",
    "        self.bateria_actual = self.bateria_maxima\n",
    "        print(\"Batería llena\")\n",
    "    \n",
    "    # Al método tocar he añadido las veces que se puede tocar (mientras tenga batería)\n",
    "    def tocar(self, veces = 1):\n",
    "        batería_consumida = 10\n",
    "        if self.bateria_actual <= 0:\n",
    "            print(f\"El theremin {self.marca} {self.modelo} no tiene batería.\")\n",
    "        else:\n",
    "            if veces <= 0:\n",
    "                print(\"Número de veces no válido.\")\n",
    "            elif veces == 1:\n",
    "                print(f\"El theremin {self.marca} {self.modelo} está tocando.\")\n",
    "                self.bateria_actual -= batería_consumida\n",
    "            else:\n",
    "                while veces > 0:\n",
    "                    if self.bateria_actual <= 0:\n",
    "                        print(f\"El theremin {self.marca} {self.modelo} no tiene batería.\")\n",
    "                        break\n",
    "                    else:\n",
    "                        print(f\"El theremin {self.marca} {self.modelo} está tocando.\")\n",
    "                        self.bateria_actual -= batería_consumida\n",
    "                        veces -= 1\n",
    "    \n",
    "\n",
    "alfredo = Theremin(\"La Pava\", \"UltraPlus 500\", 900, 140)\n",
    "alfredo.tocar()\n",
    "alfredo.tocar(5)\n",
    "alfredo.tocar(3)\n",
    "alfredo.ver_bateria()\n",
    "alfredo.tocar(12)\n",
    "alfredo.cargar_bateria()\n",
    "alfredo.ver_bateria()\n"
   ]
  },
  {
   "cell_type": "markdown",
   "id": "30f773b5-a6da-4446-b36b-722b2ee57730",
   "metadata": {},
   "source": [
    "#### Ejercicio 7. Extra (NO PUNTÚA).\n",
    "Una empresa usa dos listas  para guardar la información de sus empleados. Una lista guarda el nombre del empleado y la otra guarda su salario. Escribe un programa que cree esas dos listas originalmente vacías y que a través de un menú pueda hacer lo siguiente:\n",
    "    \n",
    "Inserta 1 para añadir un nuevo empleado y su salario\n",
    "\n",
    "Inserta 2 para imprimir los nombres y salarios de todos los empleados\n",
    "\n",
    "Inserta 3 para mostrar el número de empleados\n",
    "\n",
    "Inserta 4 para imprimir los nombres de los empleados con sueldos superiores a 400000\n",
    "\n",
    "Inserta 5 para subir un 5% los sueldos por debajo de 10000\n",
    "\n",
    "Inserta 6 para mostrar el total de todos los salarios\n",
    "\n",
    "Inserta 7 para salir del programa"
   ]
  },
  {
   "cell_type": "code",
   "execution_count": null,
   "id": "67858e27-b7f5-4e05-bc50-3fca698ad22a",
   "metadata": {},
   "outputs": [
    {
     "name": "stdout",
     "output_type": "stream",
     "text": [
      "[]\n",
      "[]\n"
     ]
    }
   ],
   "source": [
    "# NO TERMINADO\n",
    "\n",
    "empleados = []\n",
    "salarios = []\n",
    "\n",
    "def gestion_empleados():\n",
    "\n",
    "    while accion != \"7\":\n",
    "        accion = input(\"¿Qué quieres hacer?\")\n",
    "\n",
    "        if accion == \"1\":\n",
    "            empleado = input(\"Nombre del empleado: \")\n",
    "            salario = input(f\"Salario de {empleado}: \")\n",
    "\n",
    "            empleados.append(empleado)\n",
    "            salarios.append(salario)\n",
    "        \n",
    "        if accion == \"2\":\n",
    "            print(empleados)\n",
    "            print(salarios)\n",
    "\n",
    "gestion_empleados()"
   ]
  },
  {
   "cell_type": "markdown",
   "id": "e33a0e21-476e-4103-b889-a6b3e76b99f3",
   "metadata": {},
   "source": [
    "\n",
    "####  Ejercicio 8. EXTRA (NO PUNTÚA).\n",
    "\n",
    "Escribe un programa que __USE RECURSIVIDAD__ para decidir cuál es la película de Pixar favorita de un usuario.\n",
    "El programa preguntará al usuario cuál de 2 películas es su favorita, y con esa favorita se le volverá a preguntar entre esa y otra película cuál es su favorita...y así hasta que el usuario haya decidido de entre todas cuál es su favorita.\n",
    "\n",
    "Pista: si no quieres cambiar una lista, usa copy() y tendrás una copia que es otro objeto\n",
    "\n"
   ]
  },
  {
   "cell_type": "code",
   "execution_count": null,
   "id": "c9936fd4-6d29-4535-9f34-a6f289d18d8b",
   "metadata": {},
   "outputs": [
    {
     "name": "stdout",
     "output_type": "stream",
     "text": [
      "Si prefieres Toy Story marca 1, si prefieres Soul marca 2: 1\n",
      "Prefieres Toy Story\n",
      "Si prefieres Toy Story marca 1, si prefieres Up marca 2: 2\n",
      "Prefieres Up\n",
      "Si prefieres Up marca 1, si prefieres Coco marca 2: 2\n",
      "Prefieres Coco\n",
      "Si prefieres Coco marca 1, si prefieres Luca marca 2: 1\n",
      "Prefieres Coco\n",
      "Si prefieres Coco marca 1, si prefieres Monsters marca 2: 2\n",
      "Prefieres Monsters\n",
      "Si prefieres Monsters marca 1, si prefieres Inside Out marca 2: 1\n",
      "Prefieres Monsters\n",
      "Si prefieres Monsters marca 1, si prefieres WallE marca 2: 2\n",
      "Prefieres WallE\n",
      "Si prefieres WallE marca 1, si prefieres Buscando a Nemo marca 2: 2\n",
      "Prefieres Buscando a Nemo\n",
      "Si prefieres Buscando a Nemo marca 1, si prefieres Los increíbles marca 2: 1\n",
      "Prefieres Buscando a Nemo\n",
      "\n",
      "Prefieres finalmente Buscando a Nemo\n"
     ]
    }
   ],
   "source": []
  },
  {
   "cell_type": "code",
   "execution_count": 1,
   "id": "10a7b881",
   "metadata": {},
   "outputs": [],
   "source": [
    "# FIN DEL EXAMEN"
   ]
  }
 ],
 "metadata": {
  "kernelspec": {
   "display_name": "Python 3",
   "language": "python",
   "name": "python3"
  },
  "language_info": {
   "codemirror_mode": {
    "name": "ipython",
    "version": 3
   },
   "file_extension": ".py",
   "mimetype": "text/x-python",
   "name": "python",
   "nbconvert_exporter": "python",
   "pygments_lexer": "ipython3",
   "version": "3.13.0"
  }
 },
 "nbformat": 4,
 "nbformat_minor": 5
}
